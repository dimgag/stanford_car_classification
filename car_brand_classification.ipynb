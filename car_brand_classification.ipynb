{
  "cells": [
    {
      "cell_type": "markdown",
      "metadata": {
        "id": "0r8QVmLCrGEZ"
      },
      "source": [
        "# Car Brand Classification using the Stanford Cars Dataset\n",
        "\n",
        "This is a project for classifying the car brand through images. The dataset used for this project named Stanford Cars dataset (https://ai.stanford.edu/~jkrause/cars/car_dataset.html0."
      ]
    },
    {
      "cell_type": "markdown",
      "metadata": {
        "id": "wfj9WJdorfe-"
      },
      "source": [
        "## Import Libraries and Data"
      ]
    },
    {
      "cell_type": "code",
      "execution_count": null,
      "metadata": {
        "colab": {
          "base_uri": "https://localhost:8080/"
        },
        "id": "YUsU4JmOlJdH",
        "outputId": "d417c002-12f5-437a-9525-a87f61729fa0"
      },
      "outputs": [],
      "source": [
        "from google.colab import drive\n",
        "drive.mount('/content/drive')"
      ]
    },
    {
      "cell_type": "code",
      "execution_count": null,
      "metadata": {
        "colab": {
          "base_uri": "https://localhost:8080/"
        },
        "id": "bzoylVe9libF",
        "outputId": "a8b7e095-c3e4-4445-cd57-b5b6bd87c4a7"
      },
      "outputs": [],
      "source": [
        "%cd drive/MyDrive/DimitriosGagatsis_MScDataScience/12.DL_ImageVideoProcessing/car_data"
      ]
    },
    {
      "cell_type": "code",
      "execution_count": null,
      "metadata": {
        "colab": {
          "base_uri": "https://localhost:8080/"
        },
        "id": "n_N8aqqxlrBk",
        "outputId": "536fe0de-dbe3-4aec-843b-02407c35e641"
      },
      "outputs": [],
      "source": [
        "%ll"
      ]
    },
    {
      "cell_type": "code",
      "execution_count": null,
      "metadata": {
        "id": "PFPN49k4mNdP"
      },
      "outputs": [],
      "source": [
        "import pandas as pd\n",
        "import numpy as np\n",
        "import matplotlib.pyplot as plt\n",
        "import seaborn as sns\n",
        "import warnings\n",
        "warnings.filterwarnings('ignore')\n",
        "import os"
      ]
    },
    {
      "cell_type": "code",
      "execution_count": null,
      "metadata": {
        "colab": {
          "base_uri": "https://localhost:8080/",
          "height": 36
        },
        "id": "Q757vfMCL2AD",
        "outputId": "dac30300-d9ee-4c1b-d0a6-c5034af28981"
      },
      "outputs": [],
      "source": [
        "%pwd"
      ]
    },
    {
      "cell_type": "code",
      "execution_count": null,
      "metadata": {
        "id": "fFYWV6k4LzGg"
      },
      "outputs": [],
      "source": [
        "# Google Colab\n",
        "# train_dir = \"/content/drive/MyDrive/DimitriosGagatsis_MScDataScience/12.DL_ImageVideoProcessing/car_data/train\"\n",
        "# valid_dir = \"/content/drive/MyDrive/DimitriosGagatsis_MScDataScience/12.DL_ImageVideoProcessing/car_data/test\"\n",
        "\n",
        "# Local\n",
        "train_dir = \"/Users/dim__gag/Desktop/stanford-cars-dataset/data/car_data/car_data/train\"\n",
        "valid_dir = \"/Users/dim__gag/Desktop/stanford-cars-dataset/data/car_data/car_data/test\"\n",
        "\n",
        "image_size = 224\n",
        "batch_size = 32\n",
        "num_workers = 4"
      ]
    },
    {
      "cell_type": "code",
      "execution_count": null,
      "metadata": {
        "colab": {
          "base_uri": "https://localhost:8080/"
        },
        "id": "bwUPteqsLzD1",
        "outputId": "61f85552-19ac-46fa-a99a-a9671d8b6b8a"
      },
      "outputs": [],
      "source": [
        "# Show images from train directory\n",
        "train_images = os.listdir(train_dir)\n",
        "print(\"Number of images in train directory: \", len(train_images))\n",
        "print(\"Sample images from train directory: \", train_images[:5])"
      ]
    },
    {
      "cell_type": "code",
      "execution_count": null,
      "metadata": {
        "colab": {
          "base_uri": "https://localhost:8080/"
        },
        "id": "2wUgGY8-LzBN",
        "outputId": "43675cd3-4837-4054-88f4-7987d1758aac"
      },
      "outputs": [],
      "source": [
        "# Show images from valid directory\n",
        "valid_images = os.listdir(valid_dir)\n",
        "print(\"Number of images in valid directory: \", len(valid_images))\n",
        "print(\"Sample images from valid directory: \", valid_images[:5])\n"
      ]
    },
    {
      "cell_type": "code",
      "execution_count": null,
      "metadata": {
        "colab": {
          "base_uri": "https://localhost:8080/",
          "height": 554
        },
        "id": "RfO-WDb9Ly-b",
        "outputId": "66b82846-d67e-4777-9c11-770c2ee4b8d0"
      },
      "outputs": [],
      "source": [
        "# Plot training images\n",
        "plt.figure(figsize=(10, 10))\n",
        "for i in range(9):\n",
        "    plt.subplot(3, 3, i+1)\n",
        "    img = plt.imread(train_dir + \"/\" + train_images[i] + \"/\" + os.listdir(train_dir + \"/\" + train_images[i])[0])\n",
        "    plt.imshow(img)\n",
        "    plt.title(train_images[i])\n",
        "    plt.axis(\"off\")"
      ]
    },
    {
      "cell_type": "code",
      "execution_count": null,
      "metadata": {
        "colab": {
          "base_uri": "https://localhost:8080/",
          "height": 574
        },
        "id": "Y7C2Ye86Ly5V",
        "outputId": "9b427be3-582e-4693-b39c-684f3305cae6"
      },
      "outputs": [],
      "source": [
        "# Show specific brand images\n",
        "def show_brand_images(brand_name):\n",
        "    \"\"\" Function to find all the models of a \n",
        "    given car brand-name and show their images.\"\"\"\n",
        "    brand_name = str(brand_name)\n",
        "    # Find all the models with a given brand name\n",
        "    car = []\n",
        "    for i in range(len(train_images)):\n",
        "        if brand_name in train_images[i].lower():\n",
        "            # print(train_images[i])\n",
        "            # car = train_images[i]\n",
        "            car.append(train_images[i])\n",
        "    print(car)\n",
        "    # Show one image from every class\n",
        "    plt.figure(figsize=(25, 25))\n",
        "    for i in range(len(car)):\n",
        "        plt.subplot(5, 5, i+1)\n",
        "        img = plt.imread(train_dir + \"/\" + car[i] + \"/\" + os.listdir(train_dir + \"/\" + car[i])[0])\n",
        "        plt.imshow(img)\n",
        "        plt.title(car[i])\n",
        "        plt.axis(\"off\")\n",
        "\n",
        "show_brand_images(\"audi\")"
      ]
    },
    {
      "cell_type": "markdown",
      "metadata": {
        "id": "Q5JqDDxFregX"
      },
      "source": [
        "## Data Augmentation"
      ]
    },
    {
      "cell_type": "code",
      "execution_count": null,
      "metadata": {
        "id": "t3ZuObDcMbz2"
      },
      "outputs": [],
      "source": [
        "from torchvision import datasets, transforms\n",
        "from torch.utils.data import DataLoader"
      ]
    },
    {
      "cell_type": "code",
      "execution_count": null,
      "metadata": {
        "id": "76iIg0JlMbvy"
      },
      "outputs": [],
      "source": [
        "# Required constants.\n",
        "image_size = 224 # Image size of resize when applying transforms.\n",
        "batch_size = 32\n",
        "num_workers = 4 # Number of parallel processes for data preparation."
      ]
    },
    {
      "cell_type": "code",
      "execution_count": null,
      "metadata": {
        "id": "Brxg6MsfMbtc"
      },
      "outputs": [],
      "source": [
        "# Training Transforms\n",
        "def get_train_transform(image_size):\n",
        "  train_transform = transforms.Compose([\n",
        "      transforms.Resize((image_size, image_size)),\n",
        "      transforms.RandomHorizontalFlip(p=0.5),\n",
        "      transforms.RandomRotation(35),\n",
        "      transforms.RandomAdjustSharpness(sharpness_factor=2, p=0.5),\n",
        "      transforms.RandomGrayscale(p=0.5),\n",
        "      transforms.RandomPerspective(distortion_scale=0.5, p=0.5),\n",
        "      transforms.RandomPosterize(bits=2, p=0.5),\n",
        "      transforms.ToTensor(),\n",
        "      transforms.Normalize(\n",
        "          mean=[0.485, 0.456, 0.406],\n",
        "          std=[0.229, 0.224, 0.225]\n",
        "          )\n",
        "  ])\n",
        "  return train_transform\n",
        "\n",
        "\n",
        "def get_valid_transform(image_size):\n",
        "    valid_transform = transforms.Compose([\n",
        "        transforms.Resize((image_size, image_size)),\n",
        "        transforms.ToTensor(),\n",
        "        transforms.Normalize(\n",
        "            mean=[0.485, 0.456, 0.406],\n",
        "            std=[0.229, 0.224, 0.225]\n",
        "            )\n",
        "    ])\n",
        "    return valid_transform\n",
        "\n",
        "\n",
        "def get_datasets():\n",
        "    \"\"\"\n",
        "    Function to prepare the Datasets.\n",
        "    Returns the training and validation datasets along \n",
        "    with the class names.\n",
        "    \"\"\"\n",
        "    dataset_train = datasets.ImageFolder(\n",
        "        train_dir, \n",
        "        transform=(get_train_transform(image_size))\n",
        "    )\n",
        "    dataset_valid = datasets.ImageFolder(\n",
        "        valid_dir, \n",
        "        transform=(get_valid_transform(image_size))\n",
        "    )\n",
        "    return dataset_train, dataset_valid, dataset_train.classes\n",
        "\n",
        "\n",
        "\n",
        "def get_data_loaders(dataset_train, dataset_valid):\n",
        "    \"\"\"\n",
        "    Input: the training and validation data.\n",
        "    Returns the training and validation data loaders.\n",
        "    \"\"\"\n",
        "    train_loader = DataLoader(\n",
        "        dataset_train, batch_size=batch_size, \n",
        "        shuffle=True, num_workers=num_workers\n",
        "    )\n",
        "    valid_loader = DataLoader(\n",
        "        dataset_valid, batch_size=batch_size, \n",
        "        shuffle=False, num_workers=num_workers\n",
        "    )\n",
        "    return train_loader, valid_loader "
      ]
    },
    {
      "cell_type": "code",
      "execution_count": null,
      "metadata": {
        "id": "b_RgSA9rMbq_"
      },
      "outputs": [],
      "source": [
        "# Load the training and validation datasets.\n",
        "dataset_train, dataset_valid, dataset_classes = get_datasets()"
      ]
    },
    {
      "cell_type": "code",
      "execution_count": null,
      "metadata": {
        "colab": {
          "base_uri": "https://localhost:8080/"
        },
        "id": "USA6Rkf7Mbn3",
        "outputId": "c3fece3e-27af-4df7-d58c-c0273c6f318a"
      },
      "outputs": [],
      "source": [
        "print(f\"[INFO]: Number of training images: {len(dataset_train)}\")\n",
        "print(f\"[INFO]: Number of validation images: {len(dataset_valid)}\")"
      ]
    },
    {
      "cell_type": "code",
      "execution_count": null,
      "metadata": {
        "id": "teIGWXr4MblQ"
      },
      "outputs": [],
      "source": [
        "# Load the training and validation data loaders\n",
        "train_loader, valid_loader = get_data_loaders(dataset_train, dataset_valid)"
      ]
    },
    {
      "cell_type": "code",
      "execution_count": null,
      "metadata": {
        "colab": {
          "base_uri": "https://localhost:8080/"
        },
        "id": "LE7cHgqPrjbR",
        "outputId": "d3c89c32-86a1-41af-8bd9-757a9da4b53f"
      },
      "outputs": [],
      "source": [
        "print(f\"[INFO]: Number of training images: {len(train_loader)}\")\n",
        "print(f\"[INFO]: Number of validation images: {len(valid_loader)}\")"
      ]
    },
    {
      "cell_type": "code",
      "execution_count": null,
      "metadata": {
        "id": "Hhqluh3xQB6a"
      },
      "outputs": [],
      "source": []
    },
    {
      "cell_type": "markdown",
      "metadata": {
        "id": "yOK0mJ4vQTZv"
      },
      "source": [
        "## Get Models"
      ]
    },
    {
      "cell_type": "code",
      "execution_count": null,
      "metadata": {
        "id": "4F6qyRyVQYRw"
      },
      "outputs": [],
      "source": [
        "import torch.nn as nn\n",
        "from torchvision import models\n",
        "\n",
        "def build_model(pretrained=True, fine_tune=True, num_classes=10):\n",
        "  if pretrained:\n",
        "    print(\"Loading pre-trained weights\")\n",
        "  else:\n",
        "    print(\"Not loading pre-trained weights\")\n",
        "  model = models.efficientnet_b0(pretrained=pretrained)\n",
        "\n",
        "  if fine_tune:\n",
        "    print(\"Fine-tuning the model\")\n",
        "    for param in model.parameters():\n",
        "      param.requires_grad = True\n",
        "  elif not fine_tune:\n",
        "    print(\"Not fine-tuning the model\")\n",
        "    for param in model.parameters():\n",
        "      param.requires_grad = False\n",
        "\n",
        "  # Classification Head\n",
        "  model.classifier[1] = nn.Linear(in_features=1280, out_features=num_classes)\n",
        "  return model\n"
      ]
    },
    {
      "cell_type": "markdown",
      "metadata": {
        "id": "3xdQiXkWYYCE"
      },
      "source": [
        "## Train the model"
      ]
    },
    {
      "cell_type": "code",
      "execution_count": null,
      "metadata": {
        "id": "KLW4iUwmYv5-"
      },
      "outputs": [],
      "source": [
        "import torch\n",
        "import torch.nn as nn\n",
        "import torch.optim as optim"
      ]
    },
    {
      "cell_type": "code",
      "execution_count": null,
      "metadata": {
        "colab": {
          "base_uri": "https://localhost:8080/"
        },
        "id": "PZHMGuv9Yzeb",
        "outputId": "28037616-6453-45ee-d7f5-53854f299b11"
      },
      "outputs": [],
      "source": [
        "device = ('cuda' if torch.cuda.is_available() else 'cpu')\n",
        "print(f\"Computation device: {device}\")"
      ]
    },
    {
      "cell_type": "code",
      "execution_count": null,
      "metadata": {
        "id": "qCIE3xW_XOY9"
      },
      "outputs": [],
      "source": [
        "# Training the model\n",
        "from tqdm.auto import tqdm\n",
        "\n",
        "def train(model, trainloader, optimizer, criterion):\n",
        "  model.train()\n",
        "  print(\"Training model...\")\n",
        "  train_running_loss = 0.0\n",
        "  train_running_correct = 0\n",
        "  counter = 0\n",
        "\n",
        "  for i, data in tqdm(enumerate(trainloader), total=len(trainloader)):\n",
        "      counter += 1\n",
        "      image, labels = data\n",
        "      image = image.to(device)\n",
        "      labels = labels.to(device)\n",
        "      optimizer.zero_grad()\n",
        "      # Forward pass.\n",
        "      outputs = model(image)\n",
        "      # Calculate the loss.\n",
        "      loss = criterion(outputs, labels)\n",
        "      train_running_loss += loss.item()\n",
        "      # Calculate the accuracy.\n",
        "      _, preds = torch.max(outputs.data, 1)\n",
        "      train_running_correct += (preds == labels).sum().item()\n",
        "      # Backpropagation.\n",
        "      loss.backward()\n",
        "      # Update the weights.\n",
        "      optimizer.step()\n",
        "\n",
        "  # Loss and accuracy for the complete epoch.\n",
        "  epoch_loss = train_running_loss / counter\n",
        "  epoch_acc = 100. * (train_running_correct / len(trainloader.dataset))\n",
        "  return epoch_loss, epoch_acc "
      ]
    },
    {
      "cell_type": "code",
      "execution_count": null,
      "metadata": {
        "id": "9qgUpcXVZsm_"
      },
      "outputs": [],
      "source": [
        "# Validation of the model\n",
        "def validate(model, testloader, criterion, class_names):\n",
        "    model.eval()\n",
        "    print('Validation')\n",
        "    valid_running_loss = 0.0\n",
        "    valid_running_correct = 0\n",
        "    counter = 0\n",
        "    with torch.no_grad():\n",
        "        for i, data in tqdm(enumerate(testloader), total=len(testloader)):\n",
        "            counter += 1\n",
        "            \n",
        "            image, labels = data\n",
        "            image = image.to(device)\n",
        "            labels = labels.to(device)\n",
        "            # Forward pass.\n",
        "            outputs = model(image)\n",
        "            # Calculate the loss.\n",
        "            loss = criterion(outputs, labels)\n",
        "            valid_running_loss += loss.item()\n",
        "            # Calculate the accuracy.\n",
        "            _, preds = torch.max(outputs.data, 1)\n",
        "            valid_running_correct += (preds == labels).sum().item()\n",
        "\n",
        "    # Loss and accuracy for the complete epoch.\n",
        "    epoch_loss = valid_running_loss / counter\n",
        "    epoch_acc = 100. * (valid_running_correct / len(testloader.dataset))\n",
        "    return epoch_loss, epoch_acc"
      ]
    },
    {
      "cell_type": "code",
      "execution_count": null,
      "metadata": {
        "colab": {
          "base_uri": "https://localhost:8080/",
          "height": 124,
          "referenced_widgets": [
            "76f089e3e801403182ce488dfe557ee7",
            "a4aaf37d8bc6424b941c0a67bcbda6fa",
            "db4ab65ada794b1db1b3d17b3ab9de35",
            "9c11e0f48ef0485f812da6dd5c4f7ee8",
            "c46a3a759f61439192c5d80a87e502a9",
            "3ff41ab15ee64bc78e0853b2a886538e",
            "2b8b22fad09f4760ba693d8615a550d1",
            "d52f34b5bf1b4f9aae451c2091494aba",
            "fffef79dac014382ab2d9e0c529bb66a",
            "1b4b894f56884a50a8f8f92d3193ef73",
            "ea48c7ad217b4df3b0926d8d8279f6a9"
          ]
        },
        "id": "Xo8pwsyYacmJ",
        "outputId": "31addbc7-4a44-461a-9f0e-82de230634ca"
      },
      "outputs": [],
      "source": [
        "# Load the model.\n",
        "model = build_model(\n",
        "    pretrained=True,\n",
        "    fine_tune=True, \n",
        "    num_classes=len(dataset_classes)\n",
        ").to(device)\n",
        "\n",
        "\n",
        "# Total parameters and trainable parameters.\n",
        "total_params = sum(p.numel() for p in model.parameters())"
      ]
    },
    {
      "cell_type": "code",
      "execution_count": null,
      "metadata": {
        "id": "daYcRxb8azX4"
      },
      "outputs": [],
      "source": [
        "total_params = sum(p.numel() for p in model.parameters())"
      ]
    },
    {
      "cell_type": "code",
      "execution_count": null,
      "metadata": {
        "colab": {
          "base_uri": "https://localhost:8080/"
        },
        "id": "S6oP3oT_a2gB",
        "outputId": "32984d7d-b335-43db-9d0d-611373093c53"
      },
      "outputs": [],
      "source": [
        "print(f\"{total_params:,} total parameters.\")\n",
        "total_trainable_params = sum(\n",
        "        p.numel() for p in model.parameters() if p.requires_grad)\n",
        "print(f\"{total_trainable_params:,} training parameters.\")"
      ]
    },
    {
      "cell_type": "code",
      "execution_count": null,
      "metadata": {
        "id": "cZozAAija86B"
      },
      "outputs": [],
      "source": [
        "# Optimizer. # EXPERIMENTS WITH OTHER OPTIMISERS AND OTHER LEARNING RATES\n",
        "optimizer = optim.Adam(model.parameters(), lr=0.0001)\n",
        "# Loss function.\n",
        "criterion = nn.CrossEntropyLoss()"
      ]
    },
    {
      "cell_type": "code",
      "execution_count": null,
      "metadata": {
        "id": "Z9QXDLpcbXed"
      },
      "outputs": [],
      "source": [
        "# Lists to keep track of losses and accuracies.\n",
        "train_loss, valid_loss = [], []\n",
        "train_acc, valid_acc = [], []"
      ]
    },
    {
      "cell_type": "code",
      "execution_count": null,
      "metadata": {
        "colab": {
          "base_uri": "https://localhost:8080/",
          "height": 136,
          "referenced_widgets": [
            "66406cad237943c29b2c94f117e56f1a",
            "d124723737e04c9cafb1b962f99cd4e1",
            "535a7393f46c4b858ed40e2697374a08",
            "10c3217489a34c75a4b34ae654f0c0ab",
            "0dce7ae708414d829d3a627d5905611d",
            "8e64817d8c1041afa3d24694fbffbf4f",
            "7b86e7d5e2934f0f85fac8dd9e1cf82f",
            "96b1562c0eac48859d4fea2e4b428b69",
            "89d359d261514329b79121fe74562ca0",
            "6c8ccc89596a424f9b4341e105225733",
            "e4e726572a7e48c58211aa3723f3078d",
            "d33ca3fc91bf44f5b47642a1f2b8577a",
            "a035b2a8f2be41d8aa70af985e6b1d9e",
            "4f33a51f9f1a4dc3b67a0922fc7e67c1",
            "6685e4a8bef049b3bcf29a5a9b970d47",
            "d600ad11b9ac4f13a74884a7f63f4ed6",
            "49e7b9c475ba4177817398ec6160d6d5",
            "c88bab7ff07446f1884188ecb101d850",
            "5a8a3c9a0aa144bdb73543ff60779352",
            "cb9121fd49804fad88dd1b55d201acc5",
            "c86c8b1aa96c44a8a332de4a66f582df",
            "120e151cf8834fd4bddc6eabd994b6b3"
          ]
        },
        "id": "aghyA0S5e7ee",
        "outputId": "dc72f121-040b-4d0d-821f-93e28cea766e"
      },
      "outputs": [],
      "source": [
        "import time\n",
        "epochs = 10\n",
        "\n",
        "# Start the training.\n",
        "\n",
        "for epoch in range(epochs):\n",
        "    print(f\"[INFO]: Epoch {epoch+1} of {epochs}\")\n",
        "    train_epoch_loss, train_epoch_acc = train(model, train_loader, \n",
        "                                            optimizer, criterion)\n",
        "    valid_epoch_loss, valid_epoch_acc = validate(model, valid_loader,  \n",
        "                                                criterion, dataset_classes)\n",
        "    train_loss.append(train_epoch_loss)\n",
        "    valid_loss.append(valid_epoch_loss)\n",
        "    train_acc.append(train_epoch_acc)\n",
        "    valid_acc.append(valid_epoch_acc)\n",
        "    print(f\"Training loss: {train_epoch_loss:.3f}, training acc: {train_epoch_acc:.3f}\")\n",
        "    print(f\"Validation loss: {valid_epoch_loss:.3f}, validation acc: {valid_epoch_acc:.3f}\")\n",
        "    print('-'*50)\n",
        "    time.sleep(2)"
      ]
    },
    {
      "cell_type": "code",
      "execution_count": null,
      "metadata": {
        "id": "Y9fPdZqXfezu"
      },
      "outputs": [],
      "source": [
        "# utlis.py\n",
        "import torch\n",
        "import matplotlib\n",
        "import matplotlib.pyplot as plt\n",
        "\n",
        "matplotlib.style.use('ggplot')\n",
        "\n",
        "def save_model(epochs, model, optimizer, criterion):\n",
        "    torch.save({\n",
        "        'epoch': epochs,\n",
        "        'model_state_dict': model.state_dict(),\n",
        "        'optimizer_state_dict': optimizer.state_dict(),\n",
        "        'loss': criterion,\n",
        "    }, 'model.pth')\n",
        "\n",
        "def save_plots(train_acc, valid_acc, train_loss, valid_loss):\n",
        "    \"\"\"\n",
        "    Function to save the loss and accuracy plots to disk.\n",
        "    \"\"\"\n",
        "    # Accuracy plots.\n",
        "    plt.figure(figsize=(10, 7))\n",
        "    plt.plot(\n",
        "        train_acc, color='green', linestyle='-', \n",
        "        label='train accuracy'\n",
        "    )\n",
        "    plt.plot(\n",
        "        valid_acc, color='blue', linestyle='-', \n",
        "        label='validataion accuracy'\n",
        "    )\n",
        "    plt.xlabel('Epochs')\n",
        "    plt.ylabel('Accuracy')\n",
        "    plt.legend()\n",
        "    plt.savefig(f\"../outputs/accuracy.png\")\n",
        "    \n",
        "    # Loss plots.\n",
        "    plt.figure(figsize=(10, 7))\n",
        "    plt.plot(\n",
        "        train_loss, color='orange', linestyle='-', \n",
        "        label='train loss'\n",
        "    )\n",
        "    plt.plot(\n",
        "        valid_loss, color='red', linestyle='-', \n",
        "        label='validataion loss'\n",
        "    )\n",
        "    plt.xlabel('Epochs')\n",
        "    plt.ylabel('Loss')\n",
        "    plt.legend()\n",
        "    plt.savefig(f\"../outputs/loss.png\")"
      ]
    },
    {
      "cell_type": "code",
      "execution_count": null,
      "metadata": {
        "id": "PgE7SGMjglZr"
      },
      "outputs": [],
      "source": [
        "# Save the trained model weights.\n",
        "save_model(epochs, model, optimizer, criterion)\n",
        "# Save the loss and accuracy plots.\n",
        "save_plots(train_acc, valid_acc, train_loss, valid_loss)\n",
        "print('TRAINING COMPLETE')"
      ]
    }
  ],
  "metadata": {
    "accelerator": "GPU",
    "colab": {
      "collapsed_sections": [],
      "provenance": []
    },
    "gpuClass": "standard",
    "kernelspec": {
      "display_name": "Python 3.9.12 ('base')",
      "language": "python",
      "name": "python3"
    },
    "language_info": {
      "codemirror_mode": {
        "name": "ipython",
        "version": 3
      },
      "file_extension": ".py",
      "mimetype": "text/x-python",
      "name": "python",
      "nbconvert_exporter": "python",
      "pygments_lexer": "ipython3",
      "version": "3.9.12"
    },
    "vscode": {
      "interpreter": {
        "hash": "45f8683c9252a88b8f420901eacb34fcdb5939f1b6daec3cbc0724dfb08907e8"
      }
    },
    "widgets": {
      "application/vnd.jupyter.widget-state+json": {
        "0dce7ae708414d829d3a627d5905611d": {
          "model_module": "@jupyter-widgets/base",
          "model_module_version": "1.2.0",
          "model_name": "LayoutModel",
          "state": {
            "_model_module": "@jupyter-widgets/base",
            "_model_module_version": "1.2.0",
            "_model_name": "LayoutModel",
            "_view_count": null,
            "_view_module": "@jupyter-widgets/base",
            "_view_module_version": "1.2.0",
            "_view_name": "LayoutView",
            "align_content": null,
            "align_items": null,
            "align_self": null,
            "border": null,
            "bottom": null,
            "display": null,
            "flex": null,
            "flex_flow": null,
            "grid_area": null,
            "grid_auto_columns": null,
            "grid_auto_flow": null,
            "grid_auto_rows": null,
            "grid_column": null,
            "grid_gap": null,
            "grid_row": null,
            "grid_template_areas": null,
            "grid_template_columns": null,
            "grid_template_rows": null,
            "height": null,
            "justify_content": null,
            "justify_items": null,
            "left": null,
            "margin": null,
            "max_height": null,
            "max_width": null,
            "min_height": null,
            "min_width": null,
            "object_fit": null,
            "object_position": null,
            "order": null,
            "overflow": null,
            "overflow_x": null,
            "overflow_y": null,
            "padding": null,
            "right": null,
            "top": null,
            "visibility": null,
            "width": null
          }
        },
        "10c3217489a34c75a4b34ae654f0c0ab": {
          "model_module": "@jupyter-widgets/controls",
          "model_module_version": "1.5.0",
          "model_name": "HTMLModel",
          "state": {
            "_dom_classes": [],
            "_model_module": "@jupyter-widgets/controls",
            "_model_module_version": "1.5.0",
            "_model_name": "HTMLModel",
            "_view_count": null,
            "_view_module": "@jupyter-widgets/controls",
            "_view_module_version": "1.5.0",
            "_view_name": "HTMLView",
            "description": "",
            "description_tooltip": null,
            "layout": "IPY_MODEL_6c8ccc89596a424f9b4341e105225733",
            "placeholder": "​",
            "style": "IPY_MODEL_e4e726572a7e48c58211aa3723f3078d",
            "value": " 255/255 [24:32&lt;00:00,  3.34s/it]"
          }
        },
        "120e151cf8834fd4bddc6eabd994b6b3": {
          "model_module": "@jupyter-widgets/controls",
          "model_module_version": "1.5.0",
          "model_name": "DescriptionStyleModel",
          "state": {
            "_model_module": "@jupyter-widgets/controls",
            "_model_module_version": "1.5.0",
            "_model_name": "DescriptionStyleModel",
            "_view_count": null,
            "_view_module": "@jupyter-widgets/base",
            "_view_module_version": "1.2.0",
            "_view_name": "StyleView",
            "description_width": ""
          }
        },
        "1b4b894f56884a50a8f8f92d3193ef73": {
          "model_module": "@jupyter-widgets/base",
          "model_module_version": "1.2.0",
          "model_name": "LayoutModel",
          "state": {
            "_model_module": "@jupyter-widgets/base",
            "_model_module_version": "1.2.0",
            "_model_name": "LayoutModel",
            "_view_count": null,
            "_view_module": "@jupyter-widgets/base",
            "_view_module_version": "1.2.0",
            "_view_name": "LayoutView",
            "align_content": null,
            "align_items": null,
            "align_self": null,
            "border": null,
            "bottom": null,
            "display": null,
            "flex": null,
            "flex_flow": null,
            "grid_area": null,
            "grid_auto_columns": null,
            "grid_auto_flow": null,
            "grid_auto_rows": null,
            "grid_column": null,
            "grid_gap": null,
            "grid_row": null,
            "grid_template_areas": null,
            "grid_template_columns": null,
            "grid_template_rows": null,
            "height": null,
            "justify_content": null,
            "justify_items": null,
            "left": null,
            "margin": null,
            "max_height": null,
            "max_width": null,
            "min_height": null,
            "min_width": null,
            "object_fit": null,
            "object_position": null,
            "order": null,
            "overflow": null,
            "overflow_x": null,
            "overflow_y": null,
            "padding": null,
            "right": null,
            "top": null,
            "visibility": null,
            "width": null
          }
        },
        "2b8b22fad09f4760ba693d8615a550d1": {
          "model_module": "@jupyter-widgets/controls",
          "model_module_version": "1.5.0",
          "model_name": "DescriptionStyleModel",
          "state": {
            "_model_module": "@jupyter-widgets/controls",
            "_model_module_version": "1.5.0",
            "_model_name": "DescriptionStyleModel",
            "_view_count": null,
            "_view_module": "@jupyter-widgets/base",
            "_view_module_version": "1.2.0",
            "_view_name": "StyleView",
            "description_width": ""
          }
        },
        "3ff41ab15ee64bc78e0853b2a886538e": {
          "model_module": "@jupyter-widgets/base",
          "model_module_version": "1.2.0",
          "model_name": "LayoutModel",
          "state": {
            "_model_module": "@jupyter-widgets/base",
            "_model_module_version": "1.2.0",
            "_model_name": "LayoutModel",
            "_view_count": null,
            "_view_module": "@jupyter-widgets/base",
            "_view_module_version": "1.2.0",
            "_view_name": "LayoutView",
            "align_content": null,
            "align_items": null,
            "align_self": null,
            "border": null,
            "bottom": null,
            "display": null,
            "flex": null,
            "flex_flow": null,
            "grid_area": null,
            "grid_auto_columns": null,
            "grid_auto_flow": null,
            "grid_auto_rows": null,
            "grid_column": null,
            "grid_gap": null,
            "grid_row": null,
            "grid_template_areas": null,
            "grid_template_columns": null,
            "grid_template_rows": null,
            "height": null,
            "justify_content": null,
            "justify_items": null,
            "left": null,
            "margin": null,
            "max_height": null,
            "max_width": null,
            "min_height": null,
            "min_width": null,
            "object_fit": null,
            "object_position": null,
            "order": null,
            "overflow": null,
            "overflow_x": null,
            "overflow_y": null,
            "padding": null,
            "right": null,
            "top": null,
            "visibility": null,
            "width": null
          }
        },
        "49e7b9c475ba4177817398ec6160d6d5": {
          "model_module": "@jupyter-widgets/base",
          "model_module_version": "1.2.0",
          "model_name": "LayoutModel",
          "state": {
            "_model_module": "@jupyter-widgets/base",
            "_model_module_version": "1.2.0",
            "_model_name": "LayoutModel",
            "_view_count": null,
            "_view_module": "@jupyter-widgets/base",
            "_view_module_version": "1.2.0",
            "_view_name": "LayoutView",
            "align_content": null,
            "align_items": null,
            "align_self": null,
            "border": null,
            "bottom": null,
            "display": null,
            "flex": null,
            "flex_flow": null,
            "grid_area": null,
            "grid_auto_columns": null,
            "grid_auto_flow": null,
            "grid_auto_rows": null,
            "grid_column": null,
            "grid_gap": null,
            "grid_row": null,
            "grid_template_areas": null,
            "grid_template_columns": null,
            "grid_template_rows": null,
            "height": null,
            "justify_content": null,
            "justify_items": null,
            "left": null,
            "margin": null,
            "max_height": null,
            "max_width": null,
            "min_height": null,
            "min_width": null,
            "object_fit": null,
            "object_position": null,
            "order": null,
            "overflow": null,
            "overflow_x": null,
            "overflow_y": null,
            "padding": null,
            "right": null,
            "top": null,
            "visibility": null,
            "width": null
          }
        },
        "4f33a51f9f1a4dc3b67a0922fc7e67c1": {
          "model_module": "@jupyter-widgets/controls",
          "model_module_version": "1.5.0",
          "model_name": "FloatProgressModel",
          "state": {
            "_dom_classes": [],
            "_model_module": "@jupyter-widgets/controls",
            "_model_module_version": "1.5.0",
            "_model_name": "FloatProgressModel",
            "_view_count": null,
            "_view_module": "@jupyter-widgets/controls",
            "_view_module_version": "1.5.0",
            "_view_name": "ProgressView",
            "bar_style": "",
            "description": "",
            "description_tooltip": null,
            "layout": "IPY_MODEL_5a8a3c9a0aa144bdb73543ff60779352",
            "max": 252,
            "min": 0,
            "orientation": "horizontal",
            "style": "IPY_MODEL_cb9121fd49804fad88dd1b55d201acc5",
            "value": 24
          }
        },
        "535a7393f46c4b858ed40e2697374a08": {
          "model_module": "@jupyter-widgets/controls",
          "model_module_version": "1.5.0",
          "model_name": "FloatProgressModel",
          "state": {
            "_dom_classes": [],
            "_model_module": "@jupyter-widgets/controls",
            "_model_module_version": "1.5.0",
            "_model_name": "FloatProgressModel",
            "_view_count": null,
            "_view_module": "@jupyter-widgets/controls",
            "_view_module_version": "1.5.0",
            "_view_name": "ProgressView",
            "bar_style": "success",
            "description": "",
            "description_tooltip": null,
            "layout": "IPY_MODEL_96b1562c0eac48859d4fea2e4b428b69",
            "max": 255,
            "min": 0,
            "orientation": "horizontal",
            "style": "IPY_MODEL_89d359d261514329b79121fe74562ca0",
            "value": 255
          }
        },
        "5a8a3c9a0aa144bdb73543ff60779352": {
          "model_module": "@jupyter-widgets/base",
          "model_module_version": "1.2.0",
          "model_name": "LayoutModel",
          "state": {
            "_model_module": "@jupyter-widgets/base",
            "_model_module_version": "1.2.0",
            "_model_name": "LayoutModel",
            "_view_count": null,
            "_view_module": "@jupyter-widgets/base",
            "_view_module_version": "1.2.0",
            "_view_name": "LayoutView",
            "align_content": null,
            "align_items": null,
            "align_self": null,
            "border": null,
            "bottom": null,
            "display": null,
            "flex": null,
            "flex_flow": null,
            "grid_area": null,
            "grid_auto_columns": null,
            "grid_auto_flow": null,
            "grid_auto_rows": null,
            "grid_column": null,
            "grid_gap": null,
            "grid_row": null,
            "grid_template_areas": null,
            "grid_template_columns": null,
            "grid_template_rows": null,
            "height": null,
            "justify_content": null,
            "justify_items": null,
            "left": null,
            "margin": null,
            "max_height": null,
            "max_width": null,
            "min_height": null,
            "min_width": null,
            "object_fit": null,
            "object_position": null,
            "order": null,
            "overflow": null,
            "overflow_x": null,
            "overflow_y": null,
            "padding": null,
            "right": null,
            "top": null,
            "visibility": null,
            "width": null
          }
        },
        "66406cad237943c29b2c94f117e56f1a": {
          "model_module": "@jupyter-widgets/controls",
          "model_module_version": "1.5.0",
          "model_name": "HBoxModel",
          "state": {
            "_dom_classes": [],
            "_model_module": "@jupyter-widgets/controls",
            "_model_module_version": "1.5.0",
            "_model_name": "HBoxModel",
            "_view_count": null,
            "_view_module": "@jupyter-widgets/controls",
            "_view_module_version": "1.5.0",
            "_view_name": "HBoxView",
            "box_style": "",
            "children": [
              "IPY_MODEL_d124723737e04c9cafb1b962f99cd4e1",
              "IPY_MODEL_535a7393f46c4b858ed40e2697374a08",
              "IPY_MODEL_10c3217489a34c75a4b34ae654f0c0ab"
            ],
            "layout": "IPY_MODEL_0dce7ae708414d829d3a627d5905611d"
          }
        },
        "6685e4a8bef049b3bcf29a5a9b970d47": {
          "model_module": "@jupyter-widgets/controls",
          "model_module_version": "1.5.0",
          "model_name": "HTMLModel",
          "state": {
            "_dom_classes": [],
            "_model_module": "@jupyter-widgets/controls",
            "_model_module_version": "1.5.0",
            "_model_name": "HTMLModel",
            "_view_count": null,
            "_view_module": "@jupyter-widgets/controls",
            "_view_module_version": "1.5.0",
            "_view_name": "HTMLView",
            "description": "",
            "description_tooltip": null,
            "layout": "IPY_MODEL_c86c8b1aa96c44a8a332de4a66f582df",
            "placeholder": "​",
            "style": "IPY_MODEL_120e151cf8834fd4bddc6eabd994b6b3",
            "value": " 24/252 [02:25&lt;15:23,  4.05s/it]"
          }
        },
        "6c8ccc89596a424f9b4341e105225733": {
          "model_module": "@jupyter-widgets/base",
          "model_module_version": "1.2.0",
          "model_name": "LayoutModel",
          "state": {
            "_model_module": "@jupyter-widgets/base",
            "_model_module_version": "1.2.0",
            "_model_name": "LayoutModel",
            "_view_count": null,
            "_view_module": "@jupyter-widgets/base",
            "_view_module_version": "1.2.0",
            "_view_name": "LayoutView",
            "align_content": null,
            "align_items": null,
            "align_self": null,
            "border": null,
            "bottom": null,
            "display": null,
            "flex": null,
            "flex_flow": null,
            "grid_area": null,
            "grid_auto_columns": null,
            "grid_auto_flow": null,
            "grid_auto_rows": null,
            "grid_column": null,
            "grid_gap": null,
            "grid_row": null,
            "grid_template_areas": null,
            "grid_template_columns": null,
            "grid_template_rows": null,
            "height": null,
            "justify_content": null,
            "justify_items": null,
            "left": null,
            "margin": null,
            "max_height": null,
            "max_width": null,
            "min_height": null,
            "min_width": null,
            "object_fit": null,
            "object_position": null,
            "order": null,
            "overflow": null,
            "overflow_x": null,
            "overflow_y": null,
            "padding": null,
            "right": null,
            "top": null,
            "visibility": null,
            "width": null
          }
        },
        "76f089e3e801403182ce488dfe557ee7": {
          "model_module": "@jupyter-widgets/controls",
          "model_module_version": "1.5.0",
          "model_name": "HBoxModel",
          "state": {
            "_dom_classes": [],
            "_model_module": "@jupyter-widgets/controls",
            "_model_module_version": "1.5.0",
            "_model_name": "HBoxModel",
            "_view_count": null,
            "_view_module": "@jupyter-widgets/controls",
            "_view_module_version": "1.5.0",
            "_view_name": "HBoxView",
            "box_style": "",
            "children": [
              "IPY_MODEL_a4aaf37d8bc6424b941c0a67bcbda6fa",
              "IPY_MODEL_db4ab65ada794b1db1b3d17b3ab9de35",
              "IPY_MODEL_9c11e0f48ef0485f812da6dd5c4f7ee8"
            ],
            "layout": "IPY_MODEL_c46a3a759f61439192c5d80a87e502a9"
          }
        },
        "7b86e7d5e2934f0f85fac8dd9e1cf82f": {
          "model_module": "@jupyter-widgets/controls",
          "model_module_version": "1.5.0",
          "model_name": "DescriptionStyleModel",
          "state": {
            "_model_module": "@jupyter-widgets/controls",
            "_model_module_version": "1.5.0",
            "_model_name": "DescriptionStyleModel",
            "_view_count": null,
            "_view_module": "@jupyter-widgets/base",
            "_view_module_version": "1.2.0",
            "_view_name": "StyleView",
            "description_width": ""
          }
        },
        "89d359d261514329b79121fe74562ca0": {
          "model_module": "@jupyter-widgets/controls",
          "model_module_version": "1.5.0",
          "model_name": "ProgressStyleModel",
          "state": {
            "_model_module": "@jupyter-widgets/controls",
            "_model_module_version": "1.5.0",
            "_model_name": "ProgressStyleModel",
            "_view_count": null,
            "_view_module": "@jupyter-widgets/base",
            "_view_module_version": "1.2.0",
            "_view_name": "StyleView",
            "bar_color": null,
            "description_width": ""
          }
        },
        "8e64817d8c1041afa3d24694fbffbf4f": {
          "model_module": "@jupyter-widgets/base",
          "model_module_version": "1.2.0",
          "model_name": "LayoutModel",
          "state": {
            "_model_module": "@jupyter-widgets/base",
            "_model_module_version": "1.2.0",
            "_model_name": "LayoutModel",
            "_view_count": null,
            "_view_module": "@jupyter-widgets/base",
            "_view_module_version": "1.2.0",
            "_view_name": "LayoutView",
            "align_content": null,
            "align_items": null,
            "align_self": null,
            "border": null,
            "bottom": null,
            "display": null,
            "flex": null,
            "flex_flow": null,
            "grid_area": null,
            "grid_auto_columns": null,
            "grid_auto_flow": null,
            "grid_auto_rows": null,
            "grid_column": null,
            "grid_gap": null,
            "grid_row": null,
            "grid_template_areas": null,
            "grid_template_columns": null,
            "grid_template_rows": null,
            "height": null,
            "justify_content": null,
            "justify_items": null,
            "left": null,
            "margin": null,
            "max_height": null,
            "max_width": null,
            "min_height": null,
            "min_width": null,
            "object_fit": null,
            "object_position": null,
            "order": null,
            "overflow": null,
            "overflow_x": null,
            "overflow_y": null,
            "padding": null,
            "right": null,
            "top": null,
            "visibility": null,
            "width": null
          }
        },
        "96b1562c0eac48859d4fea2e4b428b69": {
          "model_module": "@jupyter-widgets/base",
          "model_module_version": "1.2.0",
          "model_name": "LayoutModel",
          "state": {
            "_model_module": "@jupyter-widgets/base",
            "_model_module_version": "1.2.0",
            "_model_name": "LayoutModel",
            "_view_count": null,
            "_view_module": "@jupyter-widgets/base",
            "_view_module_version": "1.2.0",
            "_view_name": "LayoutView",
            "align_content": null,
            "align_items": null,
            "align_self": null,
            "border": null,
            "bottom": null,
            "display": null,
            "flex": null,
            "flex_flow": null,
            "grid_area": null,
            "grid_auto_columns": null,
            "grid_auto_flow": null,
            "grid_auto_rows": null,
            "grid_column": null,
            "grid_gap": null,
            "grid_row": null,
            "grid_template_areas": null,
            "grid_template_columns": null,
            "grid_template_rows": null,
            "height": null,
            "justify_content": null,
            "justify_items": null,
            "left": null,
            "margin": null,
            "max_height": null,
            "max_width": null,
            "min_height": null,
            "min_width": null,
            "object_fit": null,
            "object_position": null,
            "order": null,
            "overflow": null,
            "overflow_x": null,
            "overflow_y": null,
            "padding": null,
            "right": null,
            "top": null,
            "visibility": null,
            "width": null
          }
        },
        "9c11e0f48ef0485f812da6dd5c4f7ee8": {
          "model_module": "@jupyter-widgets/controls",
          "model_module_version": "1.5.0",
          "model_name": "HTMLModel",
          "state": {
            "_dom_classes": [],
            "_model_module": "@jupyter-widgets/controls",
            "_model_module_version": "1.5.0",
            "_model_name": "HTMLModel",
            "_view_count": null,
            "_view_module": "@jupyter-widgets/controls",
            "_view_module_version": "1.5.0",
            "_view_name": "HTMLView",
            "description": "",
            "description_tooltip": null,
            "layout": "IPY_MODEL_1b4b894f56884a50a8f8f92d3193ef73",
            "placeholder": "​",
            "style": "IPY_MODEL_ea48c7ad217b4df3b0926d8d8279f6a9",
            "value": " 20.5M/20.5M [00:00&lt;00:00, 94.5MB/s]"
          }
        },
        "a035b2a8f2be41d8aa70af985e6b1d9e": {
          "model_module": "@jupyter-widgets/controls",
          "model_module_version": "1.5.0",
          "model_name": "HTMLModel",
          "state": {
            "_dom_classes": [],
            "_model_module": "@jupyter-widgets/controls",
            "_model_module_version": "1.5.0",
            "_model_name": "HTMLModel",
            "_view_count": null,
            "_view_module": "@jupyter-widgets/controls",
            "_view_module_version": "1.5.0",
            "_view_name": "HTMLView",
            "description": "",
            "description_tooltip": null,
            "layout": "IPY_MODEL_49e7b9c475ba4177817398ec6160d6d5",
            "placeholder": "​",
            "style": "IPY_MODEL_c88bab7ff07446f1884188ecb101d850",
            "value": " 10%"
          }
        },
        "a4aaf37d8bc6424b941c0a67bcbda6fa": {
          "model_module": "@jupyter-widgets/controls",
          "model_module_version": "1.5.0",
          "model_name": "HTMLModel",
          "state": {
            "_dom_classes": [],
            "_model_module": "@jupyter-widgets/controls",
            "_model_module_version": "1.5.0",
            "_model_name": "HTMLModel",
            "_view_count": null,
            "_view_module": "@jupyter-widgets/controls",
            "_view_module_version": "1.5.0",
            "_view_name": "HTMLView",
            "description": "",
            "description_tooltip": null,
            "layout": "IPY_MODEL_3ff41ab15ee64bc78e0853b2a886538e",
            "placeholder": "​",
            "style": "IPY_MODEL_2b8b22fad09f4760ba693d8615a550d1",
            "value": "100%"
          }
        },
        "c46a3a759f61439192c5d80a87e502a9": {
          "model_module": "@jupyter-widgets/base",
          "model_module_version": "1.2.0",
          "model_name": "LayoutModel",
          "state": {
            "_model_module": "@jupyter-widgets/base",
            "_model_module_version": "1.2.0",
            "_model_name": "LayoutModel",
            "_view_count": null,
            "_view_module": "@jupyter-widgets/base",
            "_view_module_version": "1.2.0",
            "_view_name": "LayoutView",
            "align_content": null,
            "align_items": null,
            "align_self": null,
            "border": null,
            "bottom": null,
            "display": null,
            "flex": null,
            "flex_flow": null,
            "grid_area": null,
            "grid_auto_columns": null,
            "grid_auto_flow": null,
            "grid_auto_rows": null,
            "grid_column": null,
            "grid_gap": null,
            "grid_row": null,
            "grid_template_areas": null,
            "grid_template_columns": null,
            "grid_template_rows": null,
            "height": null,
            "justify_content": null,
            "justify_items": null,
            "left": null,
            "margin": null,
            "max_height": null,
            "max_width": null,
            "min_height": null,
            "min_width": null,
            "object_fit": null,
            "object_position": null,
            "order": null,
            "overflow": null,
            "overflow_x": null,
            "overflow_y": null,
            "padding": null,
            "right": null,
            "top": null,
            "visibility": null,
            "width": null
          }
        },
        "c86c8b1aa96c44a8a332de4a66f582df": {
          "model_module": "@jupyter-widgets/base",
          "model_module_version": "1.2.0",
          "model_name": "LayoutModel",
          "state": {
            "_model_module": "@jupyter-widgets/base",
            "_model_module_version": "1.2.0",
            "_model_name": "LayoutModel",
            "_view_count": null,
            "_view_module": "@jupyter-widgets/base",
            "_view_module_version": "1.2.0",
            "_view_name": "LayoutView",
            "align_content": null,
            "align_items": null,
            "align_self": null,
            "border": null,
            "bottom": null,
            "display": null,
            "flex": null,
            "flex_flow": null,
            "grid_area": null,
            "grid_auto_columns": null,
            "grid_auto_flow": null,
            "grid_auto_rows": null,
            "grid_column": null,
            "grid_gap": null,
            "grid_row": null,
            "grid_template_areas": null,
            "grid_template_columns": null,
            "grid_template_rows": null,
            "height": null,
            "justify_content": null,
            "justify_items": null,
            "left": null,
            "margin": null,
            "max_height": null,
            "max_width": null,
            "min_height": null,
            "min_width": null,
            "object_fit": null,
            "object_position": null,
            "order": null,
            "overflow": null,
            "overflow_x": null,
            "overflow_y": null,
            "padding": null,
            "right": null,
            "top": null,
            "visibility": null,
            "width": null
          }
        },
        "c88bab7ff07446f1884188ecb101d850": {
          "model_module": "@jupyter-widgets/controls",
          "model_module_version": "1.5.0",
          "model_name": "DescriptionStyleModel",
          "state": {
            "_model_module": "@jupyter-widgets/controls",
            "_model_module_version": "1.5.0",
            "_model_name": "DescriptionStyleModel",
            "_view_count": null,
            "_view_module": "@jupyter-widgets/base",
            "_view_module_version": "1.2.0",
            "_view_name": "StyleView",
            "description_width": ""
          }
        },
        "cb9121fd49804fad88dd1b55d201acc5": {
          "model_module": "@jupyter-widgets/controls",
          "model_module_version": "1.5.0",
          "model_name": "ProgressStyleModel",
          "state": {
            "_model_module": "@jupyter-widgets/controls",
            "_model_module_version": "1.5.0",
            "_model_name": "ProgressStyleModel",
            "_view_count": null,
            "_view_module": "@jupyter-widgets/base",
            "_view_module_version": "1.2.0",
            "_view_name": "StyleView",
            "bar_color": null,
            "description_width": ""
          }
        },
        "d124723737e04c9cafb1b962f99cd4e1": {
          "model_module": "@jupyter-widgets/controls",
          "model_module_version": "1.5.0",
          "model_name": "HTMLModel",
          "state": {
            "_dom_classes": [],
            "_model_module": "@jupyter-widgets/controls",
            "_model_module_version": "1.5.0",
            "_model_name": "HTMLModel",
            "_view_count": null,
            "_view_module": "@jupyter-widgets/controls",
            "_view_module_version": "1.5.0",
            "_view_name": "HTMLView",
            "description": "",
            "description_tooltip": null,
            "layout": "IPY_MODEL_8e64817d8c1041afa3d24694fbffbf4f",
            "placeholder": "​",
            "style": "IPY_MODEL_7b86e7d5e2934f0f85fac8dd9e1cf82f",
            "value": "100%"
          }
        },
        "d33ca3fc91bf44f5b47642a1f2b8577a": {
          "model_module": "@jupyter-widgets/controls",
          "model_module_version": "1.5.0",
          "model_name": "HBoxModel",
          "state": {
            "_dom_classes": [],
            "_model_module": "@jupyter-widgets/controls",
            "_model_module_version": "1.5.0",
            "_model_name": "HBoxModel",
            "_view_count": null,
            "_view_module": "@jupyter-widgets/controls",
            "_view_module_version": "1.5.0",
            "_view_name": "HBoxView",
            "box_style": "",
            "children": [
              "IPY_MODEL_a035b2a8f2be41d8aa70af985e6b1d9e",
              "IPY_MODEL_4f33a51f9f1a4dc3b67a0922fc7e67c1",
              "IPY_MODEL_6685e4a8bef049b3bcf29a5a9b970d47"
            ],
            "layout": "IPY_MODEL_d600ad11b9ac4f13a74884a7f63f4ed6"
          }
        },
        "d52f34b5bf1b4f9aae451c2091494aba": {
          "model_module": "@jupyter-widgets/base",
          "model_module_version": "1.2.0",
          "model_name": "LayoutModel",
          "state": {
            "_model_module": "@jupyter-widgets/base",
            "_model_module_version": "1.2.0",
            "_model_name": "LayoutModel",
            "_view_count": null,
            "_view_module": "@jupyter-widgets/base",
            "_view_module_version": "1.2.0",
            "_view_name": "LayoutView",
            "align_content": null,
            "align_items": null,
            "align_self": null,
            "border": null,
            "bottom": null,
            "display": null,
            "flex": null,
            "flex_flow": null,
            "grid_area": null,
            "grid_auto_columns": null,
            "grid_auto_flow": null,
            "grid_auto_rows": null,
            "grid_column": null,
            "grid_gap": null,
            "grid_row": null,
            "grid_template_areas": null,
            "grid_template_columns": null,
            "grid_template_rows": null,
            "height": null,
            "justify_content": null,
            "justify_items": null,
            "left": null,
            "margin": null,
            "max_height": null,
            "max_width": null,
            "min_height": null,
            "min_width": null,
            "object_fit": null,
            "object_position": null,
            "order": null,
            "overflow": null,
            "overflow_x": null,
            "overflow_y": null,
            "padding": null,
            "right": null,
            "top": null,
            "visibility": null,
            "width": null
          }
        },
        "d600ad11b9ac4f13a74884a7f63f4ed6": {
          "model_module": "@jupyter-widgets/base",
          "model_module_version": "1.2.0",
          "model_name": "LayoutModel",
          "state": {
            "_model_module": "@jupyter-widgets/base",
            "_model_module_version": "1.2.0",
            "_model_name": "LayoutModel",
            "_view_count": null,
            "_view_module": "@jupyter-widgets/base",
            "_view_module_version": "1.2.0",
            "_view_name": "LayoutView",
            "align_content": null,
            "align_items": null,
            "align_self": null,
            "border": null,
            "bottom": null,
            "display": null,
            "flex": null,
            "flex_flow": null,
            "grid_area": null,
            "grid_auto_columns": null,
            "grid_auto_flow": null,
            "grid_auto_rows": null,
            "grid_column": null,
            "grid_gap": null,
            "grid_row": null,
            "grid_template_areas": null,
            "grid_template_columns": null,
            "grid_template_rows": null,
            "height": null,
            "justify_content": null,
            "justify_items": null,
            "left": null,
            "margin": null,
            "max_height": null,
            "max_width": null,
            "min_height": null,
            "min_width": null,
            "object_fit": null,
            "object_position": null,
            "order": null,
            "overflow": null,
            "overflow_x": null,
            "overflow_y": null,
            "padding": null,
            "right": null,
            "top": null,
            "visibility": null,
            "width": null
          }
        },
        "db4ab65ada794b1db1b3d17b3ab9de35": {
          "model_module": "@jupyter-widgets/controls",
          "model_module_version": "1.5.0",
          "model_name": "FloatProgressModel",
          "state": {
            "_dom_classes": [],
            "_model_module": "@jupyter-widgets/controls",
            "_model_module_version": "1.5.0",
            "_model_name": "FloatProgressModel",
            "_view_count": null,
            "_view_module": "@jupyter-widgets/controls",
            "_view_module_version": "1.5.0",
            "_view_name": "ProgressView",
            "bar_style": "success",
            "description": "",
            "description_tooltip": null,
            "layout": "IPY_MODEL_d52f34b5bf1b4f9aae451c2091494aba",
            "max": 21444401,
            "min": 0,
            "orientation": "horizontal",
            "style": "IPY_MODEL_fffef79dac014382ab2d9e0c529bb66a",
            "value": 21444401
          }
        },
        "e4e726572a7e48c58211aa3723f3078d": {
          "model_module": "@jupyter-widgets/controls",
          "model_module_version": "1.5.0",
          "model_name": "DescriptionStyleModel",
          "state": {
            "_model_module": "@jupyter-widgets/controls",
            "_model_module_version": "1.5.0",
            "_model_name": "DescriptionStyleModel",
            "_view_count": null,
            "_view_module": "@jupyter-widgets/base",
            "_view_module_version": "1.2.0",
            "_view_name": "StyleView",
            "description_width": ""
          }
        },
        "ea48c7ad217b4df3b0926d8d8279f6a9": {
          "model_module": "@jupyter-widgets/controls",
          "model_module_version": "1.5.0",
          "model_name": "DescriptionStyleModel",
          "state": {
            "_model_module": "@jupyter-widgets/controls",
            "_model_module_version": "1.5.0",
            "_model_name": "DescriptionStyleModel",
            "_view_count": null,
            "_view_module": "@jupyter-widgets/base",
            "_view_module_version": "1.2.0",
            "_view_name": "StyleView",
            "description_width": ""
          }
        },
        "fffef79dac014382ab2d9e0c529bb66a": {
          "model_module": "@jupyter-widgets/controls",
          "model_module_version": "1.5.0",
          "model_name": "ProgressStyleModel",
          "state": {
            "_model_module": "@jupyter-widgets/controls",
            "_model_module_version": "1.5.0",
            "_model_name": "ProgressStyleModel",
            "_view_count": null,
            "_view_module": "@jupyter-widgets/base",
            "_view_module_version": "1.2.0",
            "_view_name": "StyleView",
            "bar_color": null,
            "description_width": ""
          }
        }
      }
    }
  },
  "nbformat": 4,
  "nbformat_minor": 0
}
