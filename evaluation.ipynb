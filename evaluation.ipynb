{
 "cells": [
  {
   "cell_type": "code",
   "execution_count": 9,
   "metadata": {},
   "outputs": [],
   "source": [
    "import os\n",
    "import torch\n",
    "import matplotlib.pyplot as plt\n",
    "\n",
    "from src.dataset import get_valid_transform, get_datasets, get_data_loaders"
   ]
  },
  {
   "cell_type": "code",
   "execution_count": 10,
   "metadata": {},
   "outputs": [],
   "source": [
    "# Required constants.\n",
    "image_size = 224\n",
    "batch_size = 32\n",
    "num_workers = 4"
   ]
  },
  {
   "cell_type": "code",
   "execution_count": 11,
   "metadata": {},
   "outputs": [],
   "source": [
    "## Dataset Directories\n",
    "train_dir = \"data/stanford-cars-dataset/data/car_data/car_data/train\"\n",
    "valid_dir = \"data/stanford-cars-dataset/data/car_data/car_data/test\"\n"
   ]
  },
  {
   "cell_type": "code",
   "execution_count": 12,
   "metadata": {},
   "outputs": [],
   "source": [
    "# Data Augmentation\n",
    "# Load the training and validation datasets.\n",
    "dataset_train, dataset_valid, dataset_classes = get_datasets()\n",
    "# Load the training and validation data loaders\n",
    "train_loader, valid_loader = get_data_loaders(dataset_train, dataset_valid)\n"
   ]
  },
  {
   "cell_type": "code",
   "execution_count": 25,
   "metadata": {},
   "outputs": [],
   "source": [
    "# Model Directory\n",
    "model_dir = 'models/results-10-lr-ReduceLRonplateya-factor05-BEST/model.pth'\n"
   ]
  },
  {
   "cell_type": "code",
   "execution_count": 26,
   "metadata": {},
   "outputs": [
    {
     "name": "stdout",
     "output_type": "stream",
     "text": [
      "Computation device: cpu\n"
     ]
    }
   ],
   "source": [
    "# Device - GPU or CPU\n",
    "device = ('cuda' if torch.cuda.is_available() else 'cpu')\n",
    "print(f\"Computation device: {device}\")"
   ]
  },
  {
   "cell_type": "code",
   "execution_count": 27,
   "metadata": {},
   "outputs": [],
   "source": [
    "# Load the model\n",
    "model = torch.load(model_dir, map_location=torch.device('cpu'))"
   ]
  },
  {
   "cell_type": "code",
   "execution_count": 28,
   "metadata": {},
   "outputs": [],
   "source": [
    "torch.manual_seed(42)\n",
    "def eval_model(model: torch.nn.Module, \n",
    "               data_loader: torch.utils.data.DataLoader, \n",
    "               loss_fn: torch.nn.Module, \n",
    "               accuracy_fn):\n",
    "    \n",
    "    loss, acc = 0, 0\n",
    "    # model.eval() # Got error:AttributeError: 'dict' object has no attribute 'eval'\n",
    "    with torch.inference_mode():\n",
    "        for X, y in data_loader:\n",
    "            # Make predictions with the model\n",
    "            y_pred = model(X)\n",
    "            \n",
    "            # Accumulate the loss and accuracy values per batch\n",
    "            loss += loss_fn(y_pred, y)\n",
    "            acc += accuracy_fn(y_true=y, \n",
    "                                y_pred=y_pred.argmax(dim=1)) # For accuracy, need the prediction labels (logits -> pred_prob -> pred_labels)\n",
    "        \n",
    "        # Scale loss and acc to find the average loss/acc per batch\n",
    "        loss /= len(data_loader)\n",
    "        acc /= len(data_loader)\n",
    "        \n",
    "    return {\"model_name\": model.__class__.__name__, # only works when model was created with a class\n",
    "            \"model_loss\": loss.item(),\n",
    "            \"model_acc\": acc}\n",
    "\n",
    "\n",
    "\n",
    "\n",
    "# Accuracy\n",
    "def accuracy(y_true, y_pred):\n",
    "    \"\"\"\n",
    "    Calculates accuracy.\n",
    "    \"\"\"\n",
    "    correct_preds = torch.sum(y_true == y_pred)\n",
    "    return correct_preds.float() / len(y_true)\n"
   ]
  },
  {
   "cell_type": "code",
   "execution_count": 29,
   "metadata": {},
   "outputs": [
    {
     "ename": "TypeError",
     "evalue": "'dict' object is not callable",
     "output_type": "error",
     "traceback": [
      "\u001b[0;31m---------------------------------------------------------------------------\u001b[0m",
      "\u001b[0;31mTypeError\u001b[0m                                 Traceback (most recent call last)",
      "\u001b[1;32m/Users/dim__gag/git/stanford_car_classification/evaluation.ipynb Cell 9\u001b[0m in \u001b[0;36m<cell line: 2>\u001b[0;34m()\u001b[0m\n\u001b[1;32m      <a href='vscode-notebook-cell:/Users/dim__gag/git/stanford_car_classification/evaluation.ipynb#X10sZmlsZQ%3D%3D?line=0'>1</a>\u001b[0m \u001b[39mimport\u001b[39;00m \u001b[39mtorch\u001b[39;00m\u001b[39m.\u001b[39;00m\u001b[39mnn\u001b[39;00m \u001b[39mas\u001b[39;00m \u001b[39mnn\u001b[39;00m\n\u001b[0;32m----> <a href='vscode-notebook-cell:/Users/dim__gag/git/stanford_car_classification/evaluation.ipynb#X10sZmlsZQ%3D%3D?line=1'>2</a>\u001b[0m eval_model(model\u001b[39m=\u001b[39;49mmodel,\n\u001b[1;32m      <a href='vscode-notebook-cell:/Users/dim__gag/git/stanford_car_classification/evaluation.ipynb#X10sZmlsZQ%3D%3D?line=2'>3</a>\u001b[0m               data_loader\u001b[39m=\u001b[39;49mvalid_loader,\n\u001b[1;32m      <a href='vscode-notebook-cell:/Users/dim__gag/git/stanford_car_classification/evaluation.ipynb#X10sZmlsZQ%3D%3D?line=3'>4</a>\u001b[0m                 loss_fn\u001b[39m=\u001b[39;49mnn\u001b[39m.\u001b[39;49mCrossEntropyLoss(),\n\u001b[1;32m      <a href='vscode-notebook-cell:/Users/dim__gag/git/stanford_car_classification/evaluation.ipynb#X10sZmlsZQ%3D%3D?line=4'>5</a>\u001b[0m                 accuracy_fn\u001b[39m=\u001b[39;49maccuracy)\n",
      "\u001b[1;32m/Users/dim__gag/git/stanford_car_classification/evaluation.ipynb Cell 9\u001b[0m in \u001b[0;36meval_model\u001b[0;34m(model, data_loader, loss_fn, accuracy_fn)\u001b[0m\n\u001b[1;32m      <a href='vscode-notebook-cell:/Users/dim__gag/git/stanford_car_classification/evaluation.ipynb#X10sZmlsZQ%3D%3D?line=8'>9</a>\u001b[0m \u001b[39mwith\u001b[39;00m torch\u001b[39m.\u001b[39minference_mode():\n\u001b[1;32m     <a href='vscode-notebook-cell:/Users/dim__gag/git/stanford_car_classification/evaluation.ipynb#X10sZmlsZQ%3D%3D?line=9'>10</a>\u001b[0m     \u001b[39mfor\u001b[39;00m X, y \u001b[39min\u001b[39;00m data_loader:\n\u001b[1;32m     <a href='vscode-notebook-cell:/Users/dim__gag/git/stanford_car_classification/evaluation.ipynb#X10sZmlsZQ%3D%3D?line=10'>11</a>\u001b[0m         \u001b[39m# Make predictions with the model\u001b[39;00m\n\u001b[0;32m---> <a href='vscode-notebook-cell:/Users/dim__gag/git/stanford_car_classification/evaluation.ipynb#X10sZmlsZQ%3D%3D?line=11'>12</a>\u001b[0m         y_pred \u001b[39m=\u001b[39m model(X)\n\u001b[1;32m     <a href='vscode-notebook-cell:/Users/dim__gag/git/stanford_car_classification/evaluation.ipynb#X10sZmlsZQ%3D%3D?line=13'>14</a>\u001b[0m         \u001b[39m# Accumulate the loss and accuracy values per batch\u001b[39;00m\n\u001b[1;32m     <a href='vscode-notebook-cell:/Users/dim__gag/git/stanford_car_classification/evaluation.ipynb#X10sZmlsZQ%3D%3D?line=14'>15</a>\u001b[0m         loss \u001b[39m+\u001b[39m\u001b[39m=\u001b[39m loss_fn(y_pred, y)\n",
      "\u001b[0;31mTypeError\u001b[0m: 'dict' object is not callable"
     ]
    }
   ],
   "source": [
    "import torch.nn as nn\n",
    "eval_model(model=model,\n",
    "              data_loader=valid_loader,\n",
    "                loss_fn=nn.CrossEntropyLoss(),\n",
    "                accuracy_fn=accuracy)"
   ]
  },
  {
   "cell_type": "code",
   "execution_count": null,
   "metadata": {},
   "outputs": [],
   "source": [
    "model = TheModelClass(*args, **kwargs)\n",
    "optimizer = TheOptimizerClass(*args, **kwargs)\n",
    "\n",
    "checkpoint = torch.load(PATH)\n",
    "model.load_state_dict(checkpoint['model_state_dict'])\n",
    "optimizer.load_state_dict(checkpoint['optimizer_state_dict'])\n",
    "epoch = checkpoint['epoch']\n",
    "loss = checkpoint['loss']\n",
    "\n",
    "model.eval()\n",
    "# - or -\n",
    "model.train()"
   ]
  },
  {
   "cell_type": "code",
   "execution_count": 35,
   "metadata": {},
   "outputs": [
    {
     "ename": "AttributeError",
     "evalue": "'dict' object has no attribute 'train'",
     "output_type": "error",
     "traceback": [
      "\u001b[0;31m---------------------------------------------------------------------------\u001b[0m",
      "\u001b[0;31mAttributeError\u001b[0m                            Traceback (most recent call last)",
      "\u001b[1;32m/Users/dim__gag/git/stanford_car_classification/evaluation.ipynb Cell 11\u001b[0m in \u001b[0;36m<cell line: 13>\u001b[0;34m()\u001b[0m\n\u001b[1;32m      <a href='vscode-notebook-cell:/Users/dim__gag/git/stanford_car_classification/evaluation.ipynb#X13sZmlsZQ%3D%3D?line=6'>7</a>\u001b[0m model \u001b[39m=\u001b[39m torch\u001b[39m.\u001b[39mload(model_dir, map_location\u001b[39m=\u001b[39mtorch\u001b[39m.\u001b[39mdevice(\u001b[39m'\u001b[39m\u001b[39mcpu\u001b[39m\u001b[39m'\u001b[39m))\n\u001b[1;32m      <a href='vscode-notebook-cell:/Users/dim__gag/git/stanford_car_classification/evaluation.ipynb#X13sZmlsZQ%3D%3D?line=7'>8</a>\u001b[0m \u001b[39m# load the model weights\u001b[39;00m\n\u001b[1;32m      <a href='vscode-notebook-cell:/Users/dim__gag/git/stanford_car_classification/evaluation.ipynb#X13sZmlsZQ%3D%3D?line=8'>9</a>\u001b[0m \u001b[39m# model.load_state_dict(torch.load(model_dir, map_location=torch.device('cpu')))\u001b[39;00m\n\u001b[1;32m     <a href='vscode-notebook-cell:/Users/dim__gag/git/stanford_car_classification/evaluation.ipynb#X13sZmlsZQ%3D%3D?line=9'>10</a>\u001b[0m \u001b[39m# load the model weights and the optimizer state\u001b[39;00m\n\u001b[1;32m     <a href='vscode-notebook-cell:/Users/dim__gag/git/stanford_car_classification/evaluation.ipynb#X13sZmlsZQ%3D%3D?line=10'>11</a>\u001b[0m \u001b[39m# model.load_state_dict(torch.load(model_dir, map_location=torch.device('cpu'))['model_state_dict'])\u001b[39;00m\n\u001b[0;32m---> <a href='vscode-notebook-cell:/Users/dim__gag/git/stanford_car_classification/evaluation.ipynb#X13sZmlsZQ%3D%3D?line=12'>13</a>\u001b[0m model\u001b[39m.\u001b[39;49mtrain()\n",
      "\u001b[0;31mAttributeError\u001b[0m: 'dict' object has no attribute 'train'"
     ]
    }
   ],
   "source": [
    "# model = MyModelDefinition(args)\n",
    "# model.load_state_dict(torch.load('load/from/path/model.pth'))\n",
    "\n",
    "\n",
    "# Load the model\n",
    "# load the model definition\n",
    "model = torch.load(model_dir, map_location=torch.device('cpu'))\n",
    "# load the model weights\n",
    "# model.load_state_dict(torch.load(model_dir, map_location=torch.device('cpu')))\n",
    "# load the model weights and the optimizer state\n",
    "# model.load_state_dict(torch.load(model_dir, map_location=torch.device('cpu'))['model_state_dict'])\n",
    "\n",
    "\n"
   ]
  },
  {
   "cell_type": "code",
   "execution_count": 37,
   "metadata": {},
   "outputs": [
    {
     "ename": "ImportError",
     "evalue": "cannot import name 'get_model' from 'src.model' (/Users/dim__gag/git/stanford_car_classification/src/model.py)",
     "output_type": "error",
     "traceback": [
      "\u001b[0;31m---------------------------------------------------------------------------\u001b[0m",
      "\u001b[0;31mImportError\u001b[0m                               Traceback (most recent call last)",
      "\u001b[1;32m/Users/dim__gag/git/stanford_car_classification/evaluation.ipynb Cell 12\u001b[0m in \u001b[0;36m<cell line: 1>\u001b[0;34m()\u001b[0m\n\u001b[0;32m----> <a href='vscode-notebook-cell:/Users/dim__gag/git/stanford_car_classification/evaluation.ipynb#X15sZmlsZQ%3D%3D?line=0'>1</a>\u001b[0m \u001b[39mfrom\u001b[39;00m \u001b[39msrc\u001b[39;00m\u001b[39m.\u001b[39;00m\u001b[39mmodel\u001b[39;00m \u001b[39mimport\u001b[39;00m get_model\n\u001b[1;32m      <a href='vscode-notebook-cell:/Users/dim__gag/git/stanford_car_classification/evaluation.ipynb#X15sZmlsZQ%3D%3D?line=1'>2</a>\u001b[0m the_model \u001b[39m=\u001b[39m model(\u001b[39m*\u001b[39margs, \u001b[39m*\u001b[39m\u001b[39m*\u001b[39mkwargs)\n\u001b[1;32m      <a href='vscode-notebook-cell:/Users/dim__gag/git/stanford_car_classification/evaluation.ipynb#X15sZmlsZQ%3D%3D?line=3'>4</a>\u001b[0m \u001b[39m# Load the model\u001b[39;00m\n",
      "\u001b[0;31mImportError\u001b[0m: cannot import name 'get_model' from 'src.model' (/Users/dim__gag/git/stanford_car_classification/src/model.py)"
     ]
    }
   ],
   "source": [
    "from src.model import get_model\n",
    "the_model = model(*args, **kwargs)\n",
    "\n",
    "# Load the model\n",
    "model.load_state_dict(torch.load(model_dir))"
   ]
  },
  {
   "cell_type": "code",
   "execution_count": null,
   "metadata": {},
   "outputs": [],
   "source": [
    "\n",
    "# # Load the SGD optimizer \n",
    "optimizer = torch.optim.SGD(model.parameters(), lr=0.01, momentum=0.9)\n",
    "\n",
    "optimizer.load_state_dict(torch.load(model_dir, map_location=torch.device('cpu'))['optimizer_state_dict'])\n",
    "\n",
    "# # Load the model\n",
    "# model = torch.load(model_dir, map_location=torch.device('cpu'))\n",
    "# model.eval()\n",
    "\n"
   ]
  }
 ],
 "metadata": {
  "kernelspec": {
   "display_name": "base",
   "language": "python",
   "name": "python3"
  },
  "language_info": {
   "codemirror_mode": {
    "name": "ipython",
    "version": 3
   },
   "file_extension": ".py",
   "mimetype": "text/x-python",
   "name": "python",
   "nbconvert_exporter": "python",
   "pygments_lexer": "ipython3",
   "version": "3.9.12 (main, Apr  5 2022, 01:53:17) \n[Clang 12.0.0 ]"
  },
  "orig_nbformat": 4,
  "vscode": {
   "interpreter": {
    "hash": "45f8683c9252a88b8f420901eacb34fcdb5939f1b6daec3cbc0724dfb08907e8"
   }
  }
 },
 "nbformat": 4,
 "nbformat_minor": 2
}
